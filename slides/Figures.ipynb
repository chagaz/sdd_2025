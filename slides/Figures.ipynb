{
 "cells": [
  {
   "cell_type": "markdown",
   "id": "0",
   "metadata": {},
   "source": [
    "# Figures pour le cours sur les bonnes pratiques"
   ]
  },
  {
   "cell_type": "code",
   "execution_count": null,
   "id": "1",
   "metadata": {},
   "outputs": [],
   "source": [
    "%matplotlib inline\n",
    "import numpy as np\n",
    "import matplotlib\n",
    "import matplotlib.pyplot as plt"
   ]
  },
  {
   "cell_type": "code",
   "execution_count": null,
   "id": "2",
   "metadata": {},
   "outputs": [],
   "source": [
    "%config InlineBackend.figure_formats = ['svg']"
   ]
  },
  {
   "cell_type": "code",
   "execution_count": null,
   "id": "3",
   "metadata": {},
   "outputs": [],
   "source": [
    "prop_cycle = plt.rcParams['axes.prop_cycle']\n",
    "def_colors = prop_cycle.by_key()['color']"
   ]
  },
  {
   "cell_type": "code",
   "execution_count": null,
   "id": "4",
   "metadata": {},
   "outputs": [],
   "source": [
    "for i, col in enumerate(def_colors):\n",
    "    plt.scatter(i, 1, c=col)\n",
    "    plt.scatter(i, 1.02, c=\"#0000aa\")"
   ]
  },
  {
   "cell_type": "markdown",
   "id": "5",
   "metadata": {},
   "source": [
    "## Correction du graphique de TF1"
   ]
  },
  {
   "cell_type": "code",
   "execution_count": null,
   "id": "6",
   "metadata": {},
   "outputs": [],
   "source": [
    "intentions = [33, 28, 18, 5, 4, 3, 3, 2, 1.5]\n",
    "partis = [\"RN\", \"NFP\", \"Ensemble !\", \"LR\", \"LR-RN\", \"Reconquête\", \"DG\", \"DD\", \"NPA/LO\"]"
   ]
  },
  {
   "cell_type": "code",
   "execution_count": null,
   "id": "7",
   "metadata": {},
   "outputs": [],
   "source": [
    "plt.rc('font', **{'family':'sans', 'size': 12})"
   ]
  },
  {
   "cell_type": "code",
   "execution_count": null,
   "id": "8",
   "metadata": {},
   "outputs": [],
   "source": [
    "couleurs = [\"#000077\", def_colors[6], def_colors[1], def_colors[9], def_colors[0], \"#000077\", def_colors[6], def_colors[9], def_colors[3]]"
   ]
  },
  {
   "cell_type": "code",
   "execution_count": null,
   "id": "9",
   "metadata": {},
   "outputs": [],
   "source": [
    "y_values = np.arange(9, 0, -1)\n",
    "plt.barh(y_values, intentions, color=couleurs)\n",
    "t=plt.yticks(y_values, partis)\n",
    "\n",
    "\n",
    "plt.xlim(0, 40)\n",
    "for (y_val, intention) in zip(y_values, intentions):\n",
    "    plt.text(35, (y_val-0.2), f\"{intention}%\")\n",
    "\n",
    "plt.savefig('figures/jt_tf1_2024-06-17_fixed.pdf', bbox_inches='tight')"
   ]
  },
  {
   "cell_type": "markdown",
   "id": "10",
   "metadata": {},
   "source": [
    "## Bar plot"
   ]
  },
  {
   "cell_type": "code",
   "execution_count": null,
   "id": "11",
   "metadata": {},
   "outputs": [],
   "source": [
    "plt.rc('font', **{'family':'sans', 'size': 6})"
   ]
  },
  {
   "cell_type": "code",
   "execution_count": null,
   "id": "12",
   "metadata": {},
   "outputs": [],
   "source": [
    "yyy = [0.80, 0.73, 0.69, 0.71]"
   ]
  },
  {
   "cell_type": "code",
   "execution_count": null,
   "id": "13",
   "metadata": {},
   "outputs": [],
   "source": [
    "plt.bar([1, 2.2, 2.8, 3.5], yyy, width=0.5, \n",
    "        yerr=[0.05, 0.02, 0.02, 0.03], \n",
    "        tick_label=['1', '2', '3', '4'], \n",
    "        color=['#cc0000', '#cc0033', '#cc0066', '#cc0099'],\n",
    "        ecolor=['#cc0000', '#cc0033', '#cc0066', '#cc0099'])\n",
    "        #capsize=9)\n",
    "#plt.xlabel(\"Modèles\")\n",
    "#plt.ylabel(\"Performance\", fontsize=10)\n",
    "plt.ylim(0.65, 0.85)\n",
    "plt.yticks([0.65, 0.71, 0.77, 0.83])\n",
    "plt.savefig('figures/horrible_bar_plot.pdf', bbox_inches='tight')"
   ]
  },
  {
   "cell_type": "code",
   "execution_count": null,
   "id": "14",
   "metadata": {},
   "outputs": [],
   "source": [
    "plt.rc('font', **{'family':'sans', 'size': 12})"
   ]
  },
  {
   "cell_type": "code",
   "execution_count": null,
   "id": "15",
   "metadata": {},
   "outputs": [],
   "source": [
    "plt.bar([1, 2, 3, 4], yyy, width=0.5,\n",
    "        yerr=[0.05, 0.02, 0.02, 0.03], \n",
    "        tick_label=['SVM (C=0.1)', 'SVM (C=0.01)', 'RF', 'MLP'],\n",
    "        color='None', edgecolor=def_colors[0], \n",
    "        ecolor=def_colors[0], capsize=9)\n",
    "plt.xlabel(\"Modèles\")\n",
    "plt.ylabel(\"AUC-ROC\")\n",
    "plt.title(\"Comparaison des performances sur le jeu de test\", fontsize=12)\n",
    "plt.ylim(0.5, 1.0)\n",
    "plt.savefig('figures/meilleur_bar_plot.pdf', bbox_inches='tight')"
   ]
  },
  {
   "cell_type": "markdown",
   "id": "16",
   "metadata": {},
   "source": [
    "## PCA plot with colors"
   ]
  },
  {
   "cell_type": "code",
   "execution_count": null,
   "id": "17",
   "metadata": {},
   "outputs": [],
   "source": [
    "plt.rc('font', **{'family':'sans', 'size': 16})"
   ]
  },
  {
   "cell_type": "code",
   "execution_count": null,
   "id": "18",
   "metadata": {},
   "outputs": [],
   "source": [
    "import pandas as pd\n",
    "my_data = pd.read_csv('../pc/pc2/data/decathlon.txt', sep=\"\\t\")  # lire les données dans un dataframe"
   ]
  },
  {
   "cell_type": "code",
   "execution_count": null,
   "id": "19",
   "metadata": {},
   "outputs": [],
   "source": [
    "X = np.array(my_data.drop(columns=['Points', 'Rank', 'Competition']))\n",
    "print(X.shape)"
   ]
  },
  {
   "cell_type": "code",
   "execution_count": null,
   "id": "20",
   "metadata": {},
   "outputs": [],
   "source": [
    "from sklearn import preprocessing"
   ]
  },
  {
   "cell_type": "code",
   "execution_count": null,
   "id": "21",
   "metadata": {},
   "outputs": [],
   "source": [
    "std_scale = preprocessing.StandardScaler().fit(X)\n",
    "X_scaled = std_scale.transform(X)"
   ]
  },
  {
   "cell_type": "code",
   "execution_count": null,
   "id": "22",
   "metadata": {},
   "outputs": [],
   "source": [
    "from sklearn import decomposition"
   ]
  },
  {
   "cell_type": "code",
   "execution_count": null,
   "id": "23",
   "metadata": {},
   "outputs": [],
   "source": [
    "pca = decomposition.PCA(n_components=2)\n",
    "pca.fit(X_scaled)\n",
    "X_projected = pca.transform(X_scaled)\n",
    "print(X_projected.shape)"
   ]
  },
  {
   "cell_type": "code",
   "execution_count": null,
   "id": "24",
   "metadata": {},
   "outputs": [],
   "source": [
    "fig = plt.figure(figsize=(5, 5))\n",
    "\n",
    "plt.scatter(X_projected[:, 0], X_projected[:, 1], c=my_data['Rank'], cmap='cividis')\n",
    "\n",
    "plt.xlabel(\"PC 1\")\n",
    "plt.ylabel(\"PC 2\")\n",
    "plt.colorbar(label='classement')\n",
    "\n",
    "ax = fig.gca()\n",
    "ax.set_aspect('equal')\n",
    "fig.set_size_inches([7, 4],forward=True)\n",
    "plt.savefig('figures/pca_plot_cividis.png', bbox_inches='tight')"
   ]
  },
  {
   "cell_type": "code",
   "execution_count": null,
   "id": "25",
   "metadata": {},
   "outputs": [],
   "source": [
    "fig = plt.figure(figsize=(5, 5))\n",
    "\n",
    "plt.scatter(X_projected[:, 0], X_projected[:, 1], c=my_data['Rank'], cmap='RdYlGn')\n",
    "\n",
    "plt.xlabel(\"PC 1\")\n",
    "plt.ylabel(\"PC 2\")\n",
    "plt.colorbar(label='classement')\n",
    "\n",
    "ax = fig.gca()\n",
    "ax.set_aspect('equal')\n",
    "fig.set_size_inches([7, 4],forward=True)\n",
    "plt.savefig('figures/pca_plot_RdYlGn.png', bbox_inches='tight')"
   ]
  },
  {
   "cell_type": "code",
   "execution_count": null,
   "id": "26",
   "metadata": {},
   "outputs": [],
   "source": []
  }
 ],
 "metadata": {
  "kernelspec": {
   "display_name": "Python 3 (ipykernel)",
   "language": "python",
   "name": "python3"
  },
  "language_info": {
   "codemirror_mode": {
    "name": "ipython",
    "version": 3
   },
   "file_extension": ".py",
   "mimetype": "text/x-python",
   "name": "python",
   "nbconvert_exporter": "python",
   "pygments_lexer": "ipython3",
   "version": "3.9.18"
  }
 },
 "nbformat": 4,
 "nbformat_minor": 5
}
