{
 "cells": [
  {
   "cell_type": "markdown",
   "metadata": {},
   "source": [
    "## Génération de figures pour le chapitre « Modèles non-linéaires »."
   ]
  },
  {
   "cell_type": "code",
   "execution_count": null,
   "metadata": {},
   "outputs": [],
   "source": [
    "%matplotlib inline\n",
    "import numpy as np\n",
    "import matplotlib\n",
    "import matplotlib.pyplot as plt"
   ]
  },
  {
   "cell_type": "code",
   "execution_count": null,
   "metadata": {},
   "outputs": [],
   "source": [
    "plt.rc('font', **{'family':'sans', 'size': 20})\n",
    "\n",
    "matplotlib.rcParams.update({\n",
    "    'text.usetex': True,\n",
    "    'text.latex.preamble': r\"\\usepackage{mathptmx} \\usepackage{amsmath} \\usepackage{amssymb}\"})"
   ]
  },
  {
   "cell_type": "code",
   "execution_count": null,
   "metadata": {},
   "outputs": [],
   "source": [
    "prop_cycle = plt.rcParams['axes.prop_cycle']\n",
    "def_colors = prop_cycle.by_key()['color']"
   ]
  },
  {
   "cell_type": "markdown",
   "metadata": {},
   "source": [
    "## Wisdom of crowds"
   ]
  },
  {
   "cell_type": "code",
   "execution_count": null,
   "metadata": {},
   "outputs": [],
   "source": [
    "N = 4\n",
    "points = np.random.uniform(size=(7, N))\n",
    "\n",
    "fig = plt.figure(figsize=(8, 8))\n",
    "\n",
    "xvals_all = []\n",
    "yvals_all = []\n",
    "\n",
    "for ix in range(points.shape[0]):\n",
    "    escalier = np.sort(points[ix, :])\n",
    "    xvals = [0, 0]\n",
    "    xxx = np.repeat(escalier, 2)\n",
    "    xvals.extend(xxx)\n",
    "    xvals.extend([1])\n",
    "    \n",
    "    escalier += 0.1 * (np.random.random(size=N)-0.5)\n",
    "    yvals = [0]\n",
    "    yyy = np.repeat(escalier, 2)\n",
    "    yvals.extend(yyy)\n",
    "    yvals.extend([1, 1])\n",
    "\n",
    "    plt.plot(xvals, yvals, ':', color='k', lw=2) \n",
    "    \n",
    "    xvals_all.append(xvals)\n",
    "    yvals_all.append(yvals)\n",
    "\n",
    "# Diagonale cible\n",
    "plt.plot([-0.05, 1.], [0.1, 1.1], lw=3, ls='--')\n",
    "\n",
    "# Moyenne des escaliers\n",
    "xvals_dict = {}\n",
    "for xvalue, yvalue in zip(np.array(xvals_all).flatten(), np.array(yvals_all).flatten()):\n",
    "    try:\n",
    "        xvals_dict[xvalue].append(yvalue)\n",
    "    except KeyError:\n",
    "        xvals_dict[xvalue] = [yvalue]\n",
    "xvals = list(xvals_dict.keys())\n",
    "xvals.sort()\n",
    "yvals = [np.mean(xvals_dict[xvalue]) for xvalue in xvals]\n",
    "plt.plot(xvals, yvals, lw=3, ls='-')\n",
    "\n",
    "t=plt.axis('off')\n",
    "\n",
    "plt.savefig('../figures/nonlin/crowd_diagonal.pdf', bbox_inches='tight')"
   ]
  }
 ],
 "metadata": {
  "kernelspec": {
   "display_name": "Python 3 (ipykernel)",
   "language": "python",
   "name": "python3"
  },
  "language_info": {
   "codemirror_mode": {
    "name": "ipython",
    "version": 3
   },
   "file_extension": ".py",
   "mimetype": "text/x-python",
   "name": "python",
   "nbconvert_exporter": "python",
   "pygments_lexer": "ipython3",
   "version": "3.9.18"
  }
 },
 "nbformat": 4,
 "nbformat_minor": 4
}
