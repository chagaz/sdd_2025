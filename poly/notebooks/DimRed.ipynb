{
 "cells": [
  {
   "cell_type": "markdown",
   "metadata": {},
   "source": [
    "## Génération de figures pour le chapitre « Réduction de dimension »."
   ]
  },
  {
   "cell_type": "code",
   "execution_count": null,
   "metadata": {},
   "outputs": [],
   "source": [
    "%matplotlib inline\n",
    "import numpy as np\n",
    "import matplotlib\n",
    "import matplotlib.pyplot as plt"
   ]
  },
  {
   "cell_type": "code",
   "execution_count": null,
   "metadata": {},
   "outputs": [],
   "source": [
    "plt.rc('font', **{'family':'sans', 'size': 20})\n",
    "\n",
    "matplotlib.rcParams.update({\n",
    "    'text.usetex': True,\n",
    "    'text.latex.preamble': r\"\\usepackage{mathptmx} \\usepackage{amsmath} \\usepackage{amssymb}\"})"
   ]
  },
  {
   "cell_type": "code",
   "execution_count": null,
   "metadata": {},
   "outputs": [],
   "source": [
    "prop_cycle = plt.rcParams['axes.prop_cycle']\n",
    "def_colors = prop_cycle.by_key()['color']"
   ]
  },
  {
   "cell_type": "code",
   "execution_count": null,
   "metadata": {},
   "outputs": [],
   "source": [
    "import scipy.stats as st"
   ]
  },
  {
   "cell_type": "markdown",
   "metadata": {},
   "source": [
    "## Maximisation de la variance "
   ]
  },
  {
   "cell_type": "code",
   "execution_count": null,
   "metadata": {
    "jupyter": {
     "outputs_hidden": false
    }
   },
   "outputs": [],
   "source": [
    "n = 1000\n",
    "p = 2\n",
    "\n",
    "a = np.random.normal(size=(n, 1))\n",
    "e = np.random.normal(scale=0.25, size=(n, p))\n",
    "\n",
    "X = np.hstack((a, a)) + e\n",
    "\n",
    "from sklearn import preprocessing\n",
    "std_scale = preprocessing.StandardScaler().fit(X)\n",
    "X_scaled = std_scale.transform(X)\n",
    "\n",
    "from sklearn import decomposition\n",
    "pca = decomposition.PCA(n_components=2)\n",
    "pca.fit(X_scaled)"
   ]
  },
  {
   "cell_type": "code",
   "execution_count": null,
   "metadata": {
    "jupyter": {
     "outputs_hidden": false
    }
   },
   "outputs": [],
   "source": [
    "plt.figure(figsize=(4, 4))\n",
    "t = plt.scatter(X[:, 0], X[:, 1], marker='x', s=100)\n",
    "\n",
    "r = pca.components_[0, 0]/pca.components_[0, 1]\n",
    "\n",
    "a = plt.arrow(-3, -3*r, 6.7, 6.7*r, fc=def_colors[1], ec=def_colors[1],\n",
    "          length_includes_head=True,\n",
    "          head_width=0.2, head_length=0.4, lw=2)\n",
    "plt.xlim([-3.5, 4.])\n",
    "plt.ylim([-3.5, 4.])\n",
    "\n",
    "plt.axis('off')\n",
    "plt.savefig('../figures/dimred/data_variance.pdf', bbox_inches='tight')"
   ]
  },
  {
   "cell_type": "markdown",
   "metadata": {},
   "source": [
    "## Scree plots"
   ]
  },
  {
   "cell_type": "code",
   "execution_count": null,
   "metadata": {
    "jupyter": {
     "outputs_hidden": false
    }
   },
   "outputs": [],
   "source": [
    "from sklearn import datasets\n",
    "\n",
    "bc = datasets.load_breast_cancer()\n",
    "X = bc.data\n",
    "\n",
    "from sklearn import preprocessing\n",
    "std_scale = preprocessing.StandardScaler().fit(X)\n",
    "X_scaled = std_scale.transform(X)\n",
    "\n",
    "# PCA\n",
    "from sklearn import decomposition\n",
    "pca = decomposition.PCA(n_components=30)\n",
    "pca.fit(X_scaled)"
   ]
  },
  {
   "cell_type": "markdown",
   "metadata": {},
   "source": [
    "### Cumulative"
   ]
  },
  {
   "cell_type": "code",
   "execution_count": null,
   "metadata": {},
   "outputs": [],
   "source": [
    "from matplotlib.ticker import MultipleLocator, FormatStrFormatter"
   ]
  },
  {
   "cell_type": "code",
   "execution_count": null,
   "metadata": {
    "jupyter": {
     "outputs_hidden": false
    }
   },
   "outputs": [],
   "source": [
    "fig, ax = plt.subplots(figsize=(8, 6))\n",
    "\n",
    "cum_perc = pca.explained_variance_ratio_.cumsum()\n",
    "plt.plot(range(1, 31), cum_perc,\n",
    "         marker='o', markersize=10)\n",
    "\n",
    "plt.xlabel(\"Nombre de PC\", fontsize='24')\n",
    "xt = [0]\n",
    "xt.extend(range(4, 31, 5))\n",
    "\n",
    "plt.plot([10, 10], [0.3, cum_perc[9]], ls='--', lw=3, color='grey')\n",
    "plt.plot([-0.5, 10], [cum_perc[9], cum_perc[9]], lw=3, ls='--', color='grey')\n",
    "\n",
    "plt.grid(ls=':')\n",
    "\n",
    "plt.xlim([-0.5, 30])\n",
    "plt.ylim([0.3, 1.01])\n",
    "\n",
    "# xticks\n",
    "majorLocator = MultipleLocator(5)\n",
    "majorFormatter = FormatStrFormatter('%d')\n",
    "minorLocator = MultipleLocator(1)\n",
    "# major ticks\n",
    "ax.xaxis.set_major_locator(majorLocator)\n",
    "ax.xaxis.set_major_formatter(majorFormatter)\n",
    "# for the minor ticks, use no labels; default NullFormatter\n",
    "ax.xaxis.set_minor_locator(minorLocator)\n",
    "ax.tick_params(labelsize=22)\n",
    "\n",
    "# yticks\n",
    "ax.set_yticks([.4, .6, .8, .95, 1.])\n",
    "ax.set_yticklabels(['0.4', '0.6', '0.8', '', '1.0'])\n",
    "\n",
    "print('%.2f' % cum_perc[9])\n",
    "plt.savefig('../figures/dimred/scree_plot_cumul.pdf', bbox_inches='tight')"
   ]
  },
  {
   "cell_type": "code",
   "execution_count": null,
   "metadata": {
    "jupyter": {
     "outputs_hidden": false
    }
   },
   "outputs": [],
   "source": [
    "fig, ax = plt.subplots(figsize=(8, 6))\n",
    "\n",
    "perc = pca.explained_variance_ratio_\n",
    "plt.plot(range(1, 31), perc, marker='o', markersize=10)\n",
    "plt.xlabel(\"Nombre de PC\", fontsize='24')\n",
    "xt = [0]\n",
    "xt.extend(range(4, 31, 5))\n",
    "\n",
    "plt.grid(ls=':')\n",
    "\n",
    "plt.plot([6, 6], [-0.01, 0.5], ls='--', lw=3, color='grey')\n",
    "\n",
    "plt.xlim([-0.5, 30])\n",
    "plt.ylim([-0.01, 0.5])\n",
    "\n",
    "# xticks\n",
    "majorLocator = MultipleLocator(5)\n",
    "majorFormatter = FormatStrFormatter('%d')\n",
    "minorLocator = MultipleLocator(1)\n",
    "# major ticks\n",
    "ax.xaxis.set_major_locator(majorLocator)\n",
    "ax.xaxis.set_major_formatter(majorFormatter)\n",
    "# for the minor ticks, use no labels; default NullFormatter\n",
    "ax.xaxis.set_minor_locator(minorLocator)\n",
    "ax.tick_params(labelsize=22)\n",
    "\n",
    "# yticks\n",
    "majorLocator = MultipleLocator(0.1)\n",
    "majorFormatter = FormatStrFormatter('%.1f')\n",
    "minorLocator = MultipleLocator(0.1)\n",
    "# major ticks\n",
    "ax.yaxis.set_major_locator(majorLocator)\n",
    "ax.yaxis.set_major_formatter(majorFormatter)\n",
    "# for the minor ticks, use no labels; default NullFormatter\n",
    "ax.yaxis.set_minor_locator(minorLocator)\n",
    "\n",
    "plt.savefig('../figures/dimred/scree_plot.pdf', bbox_inches='tight')"
   ]
  },
  {
   "cell_type": "code",
   "execution_count": null,
   "metadata": {},
   "outputs": [],
   "source": []
  }
 ],
 "metadata": {
  "kernelspec": {
   "display_name": "Python 3 (ipykernel)",
   "language": "python",
   "name": "python3"
  },
  "language_info": {
   "codemirror_mode": {
    "name": "ipython",
    "version": 3
   },
   "file_extension": ".py",
   "mimetype": "text/x-python",
   "name": "python",
   "nbconvert_exporter": "python",
   "pygments_lexer": "ipython3",
   "version": "3.9.18"
  }
 },
 "nbformat": 4,
 "nbformat_minor": 4
}
